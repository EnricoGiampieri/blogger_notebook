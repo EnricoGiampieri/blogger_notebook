{
 "metadata": {
  "name": "basemap"
 },
 "nbformat": 3,
 "nbformat_minor": 0,
 "worksheets": [
  {
   "cells": [
    {
     "cell_type": "raw",
     "metadata": {},
     "source": [
      "Jeffrey S. Whitaker Phone : (303)497-6313\n",
      "Meteorologist FAX : (303)497-6449\n",
      "NOAA/OAR/CDC R/CDC1 Email :\n",
      "Jeffrey.S.Whitaker-32lpuo7BZBA@xxxxxxxxxxxxxxxx\n",
      "325 Broadway Office : Skaggs Research Cntr 1D-124\n",
      "Boulder, CO, USA 80303-3328 Web : http://tinyurl.com/5telg\n",
      "\n",
      "http://osdir.com/ml/python.matplotlib.general/2005-10/msg00029.html"
     ]
    },
    {
     "cell_type": "raw",
     "metadata": {},
     "source": [
      "vedi anche:\n",
      "\n",
      "http://www.stanford.edu/class/stats202/unemployment.html"
     ]
    },
    {
     "cell_type": "code",
     "collapsed": false,
     "input": [
      "import pandas\n",
      "import pylab\n",
      "from mpl_toolkits.basemap import Basemap\n",
      "import matplotlib as mpl"
     ],
     "language": "python",
     "metadata": {},
     "outputs": [],
     "prompt_number": 2
    },
    {
     "cell_type": "code",
     "collapsed": false,
     "input": [
      "data = pandas.read_csv(\"http://stats202.stanford.edu/data/unemployment_2011.csv\",sep='|')"
     ],
     "language": "python",
     "metadata": {},
     "outputs": [],
     "prompt_number": 3
    },
    {
     "cell_type": "code",
     "collapsed": false,
     "input": [
      "data[:5]"
     ],
     "language": "python",
     "metadata": {},
     "outputs": [
      {
       "html": [
        "<div style=\"max-height:1000px;max-width:1500px;overflow:auto;\">\n",
        "<table border=\"1\" class=\"dataframe\">\n",
        "  <thead>\n",
        "    <tr style=\"text-align: right;\">\n",
        "      <th></th>\n",
        "      <th>code</th>\n",
        "      <th>state_fips</th>\n",
        "      <th>county_fips</th>\n",
        "      <th>period</th>\n",
        "      <th>civilian</th>\n",
        "      <th>employed</th>\n",
        "      <th>unemployed</th>\n",
        "      <th>rate</th>\n",
        "      <th>county</th>\n",
        "      <th>state</th>\n",
        "      <th>state_code</th>\n",
        "    </tr>\n",
        "  </thead>\n",
        "  <tbody>\n",
        "    <tr>\n",
        "      <td><strong>0</strong></td>\n",
        "      <td> CN010010</td>\n",
        "      <td> 1</td>\n",
        "      <td> 1</td>\n",
        "      <td> Jun-11</td>\n",
        "      <td> 26328</td>\n",
        "      <td> 23987</td>\n",
        "      <td> 2341</td>\n",
        "      <td>  8.9</td>\n",
        "      <td> autauga</td>\n",
        "      <td> alabama</td>\n",
        "      <td> AL</td>\n",
        "    </tr>\n",
        "    <tr>\n",
        "      <td><strong>1</strong></td>\n",
        "      <td> PA011000</td>\n",
        "      <td> 1</td>\n",
        "      <td> 3</td>\n",
        "      <td> Jun-11</td>\n",
        "      <td> 88382</td>\n",
        "      <td> 80841</td>\n",
        "      <td> 7541</td>\n",
        "      <td>  8.5</td>\n",
        "      <td> baldwin</td>\n",
        "      <td> alabama</td>\n",
        "      <td> AL</td>\n",
        "    </tr>\n",
        "    <tr>\n",
        "      <td><strong>2</strong></td>\n",
        "      <td> CN010050</td>\n",
        "      <td> 1</td>\n",
        "      <td> 5</td>\n",
        "      <td> Jun-11</td>\n",
        "      <td>  9957</td>\n",
        "      <td>  8774</td>\n",
        "      <td> 1183</td>\n",
        "      <td> 11.9</td>\n",
        "      <td> barbour</td>\n",
        "      <td> alabama</td>\n",
        "      <td> AL</td>\n",
        "    </tr>\n",
        "    <tr>\n",
        "      <td><strong>3</strong></td>\n",
        "      <td> CN010070</td>\n",
        "      <td> 1</td>\n",
        "      <td> 7</td>\n",
        "      <td> Jun-11</td>\n",
        "      <td>  9360</td>\n",
        "      <td>  8307</td>\n",
        "      <td> 1053</td>\n",
        "      <td> 11.3</td>\n",
        "      <td>    bibb</td>\n",
        "      <td> alabama</td>\n",
        "      <td> AL</td>\n",
        "    </tr>\n",
        "    <tr>\n",
        "      <td><strong>4</strong></td>\n",
        "      <td> CN010090</td>\n",
        "      <td> 1</td>\n",
        "      <td> 9</td>\n",
        "      <td> Jun-11</td>\n",
        "      <td> 26573</td>\n",
        "      <td> 24168</td>\n",
        "      <td> 2405</td>\n",
        "      <td>  9.1</td>\n",
        "      <td>  blount</td>\n",
        "      <td> alabama</td>\n",
        "      <td> AL</td>\n",
        "    </tr>\n",
        "  </tbody>\n",
        "</table>\n",
        "</div>"
       ],
       "output_type": "pyout",
       "prompt_number": 166,
       "text": [
        "       code  state_fips  county_fips  period  civilian  employed  unemployed  rate  \\\n",
        "0  CN010010           1            1  Jun-11     26328     23987        2341   8.9   \n",
        "1  PA011000           1            3  Jun-11     88382     80841        7541   8.5   \n",
        "2  CN010050           1            5  Jun-11      9957      8774        1183  11.9   \n",
        "3  CN010070           1            7  Jun-11      9360      8307        1053  11.3   \n",
        "4  CN010090           1            9  Jun-11     26573     24168        2405   9.1   \n",
        "\n",
        "    county    state state_code  \n",
        "0  autauga  alabama         AL  \n",
        "1  baldwin  alabama         AL  \n",
        "2  barbour  alabama         AL  \n",
        "3     bibb  alabama         AL  \n",
        "4   blount  alabama         AL  "
       ]
      }
     ],
     "prompt_number": 166
    },
    {
     "cell_type": "code",
     "collapsed": false,
     "input": [
      "reduced = data[data.period=='May-12'].groupby('state').sum()[['civilian','employed','unemployed']]\n",
      "reduced['ratio'] =  reduced['unemployed'] / reduced['civilian']\n",
      "reduced.index = [ i.lower() for i in reduced.index ]"
     ],
     "language": "python",
     "metadata": {},
     "outputs": [],
     "prompt_number": 137
    },
    {
     "cell_type": "code",
     "collapsed": false,
     "input": [
      "reduced[:5]"
     ],
     "language": "python",
     "metadata": {},
     "outputs": [
      {
       "html": [
        "<div style=\"max-height:1000px;max-width:1500px;overflow:auto;\">\n",
        "<table border=\"1\" class=\"dataframe\">\n",
        "  <thead>\n",
        "    <tr style=\"text-align: right;\">\n",
        "      <th></th>\n",
        "      <th>civilian</th>\n",
        "      <th>employed</th>\n",
        "      <th>unemployed</th>\n",
        "      <th>ratio</th>\n",
        "    </tr>\n",
        "  </thead>\n",
        "  <tbody>\n",
        "    <tr>\n",
        "      <td><strong>alabama</strong></td>\n",
        "      <td>  2150161</td>\n",
        "      <td>  1989181</td>\n",
        "      <td>  160980</td>\n",
        "      <td> 0.074869</td>\n",
        "    </tr>\n",
        "    <tr>\n",
        "      <td><strong>alaska</strong></td>\n",
        "      <td>   367279</td>\n",
        "      <td>   341506</td>\n",
        "      <td>   25773</td>\n",
        "      <td> 0.070173</td>\n",
        "    </tr>\n",
        "    <tr>\n",
        "      <td><strong>arizona</strong></td>\n",
        "      <td>  3026485</td>\n",
        "      <td>  2778186</td>\n",
        "      <td>  248299</td>\n",
        "      <td> 0.082042</td>\n",
        "    </tr>\n",
        "    <tr>\n",
        "      <td><strong>arkansas</strong></td>\n",
        "      <td>  1392559</td>\n",
        "      <td>  1290240</td>\n",
        "      <td>  102319</td>\n",
        "      <td> 0.073476</td>\n",
        "    </tr>\n",
        "    <tr>\n",
        "      <td><strong>california</strong></td>\n",
        "      <td> 18431866</td>\n",
        "      <td> 16519142</td>\n",
        "      <td> 1912724</td>\n",
        "      <td> 0.103773</td>\n",
        "    </tr>\n",
        "  </tbody>\n",
        "</table>\n",
        "</div>"
       ],
       "output_type": "pyout",
       "prompt_number": 167,
       "text": [
        "            civilian  employed  unemployed     ratio\n",
        "alabama      2150161   1989181      160980  0.074869\n",
        "alaska        367279    341506       25773  0.070173\n",
        "arizona      3026485   2778186      248299  0.082042\n",
        "arkansas     1392559   1290240      102319  0.073476\n",
        "california  18431866  16519142     1912724  0.103773"
       ]
      }
     ],
     "prompt_number": 167
    },
    {
     "cell_type": "code",
     "collapsed": false,
     "input": [
      "popdensity = reduced['ratio']"
     ],
     "language": "python",
     "metadata": {},
     "outputs": []
    },
    {
     "cell_type": "code",
     "collapsed": false,
     "input": [
      "fig, ax =pylab.subplots(1)\n",
      "# Lambert Conformal map of lower 48 states.\n",
      "m = Basemap(llcrnrlon=-119,llcrnrlat=22,urcrnrlon=-64,urcrnrlat=49,\n",
      "            projection='lcc',lat_1=33,lat_2=45,lon_0=-95)\n",
      "# draw state boundaries.\n",
      "# data from U.S Census Bureau\n",
      "# http://www.census.gov/geo/www/cob/st2000.html\n",
      "# http://www.census.gov/geo/cob/bdy/st/st00shp/st99_d00_shp.zip\n",
      "m.readshapefile('./USAmaps/st99_d00','USA',drawbounds=True)\n",
      "\n",
      "max_pop = popdensity.max()\n",
      "\n",
      "# use 'hot' colormap\n",
      "cmap = pylab.cm.hot \n",
      "# cycle through states, color each one.\n",
      "for nshape,(seg, state_info) in enumerate(zip(m.USA, m.USA_info)):\n",
      "    statename = state_info['NAME'].lower()\n",
      "    pop = popdensity[statename]\n",
      "    color =  cmap(pop / max_pop )\n",
      "    xx,yy = zip(*seg)\n",
      "    patches = ax.fill(xx,yy,facecolor=color,edgecolor=color)\n",
      "ax.set_title('Employment fraction for state');\n",
      "\n",
      "axc, kw = matplotlib.colorbar.make_axes(ax)\n",
      "norm = mpl.colors.Normalize(vmin=0, vmax=max_pop)\n",
      "cb1 = mpl.colorbar.ColorbarBase(axc, cmap=cmap, norm=norm)"
     ],
     "language": "python",
     "metadata": {},
     "outputs": [
      {
       "output_type": "display_data",
       "png": "[encoded data removed]"
      }
     ],
     "prompt_number": 165
    },
    {
     "cell_type": "code",
     "collapsed": false,
     "input": [
      "print m.USA_info[0].keys()"
     ],
     "language": "python",
     "metadata": {},
     "outputs": [
      {
       "output_type": "stream",
       "stream": "stdout",
       "text": [
        "['PERIMETER', 'DIVISION', 'NAME', 'AREA', 'RINGNUM', 'REGION', 'LSAD', 'LSAD_TRANS', 'STATE', 'ST99_D00_I', 'SHAPENUM', 'ST99_D00_']\n"
       ]
      }
     ],
     "prompt_number": 20
    },
    {
     "cell_type": "code",
     "collapsed": false,
     "input": [],
     "language": "python",
     "metadata": {},
     "outputs": []
    }
   ],
   "metadata": {}
  }
 ]
}